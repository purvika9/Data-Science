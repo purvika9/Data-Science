{
  "nbformat": 4,
  "nbformat_minor": 0,
  "metadata": {
    "colab": {
      "provenance": [],
      "collapsed_sections": []
    },
    "kernelspec": {
      "name": "python3",
      "display_name": "Python 3"
    },
    "language_info": {
      "name": "python"
    }
  },
  "cells": [
    {
      "cell_type": "code",
      "execution_count": 52,
      "metadata": {
        "id": "ZIUyiuux1JbW"
      },
      "outputs": [],
      "source": [
        "from tensorflow import keras\n",
        "import matplotlib.pyplot as plt"
      ]
    },
    {
      "cell_type": "code",
      "source": [
        "from sklearn.metrics import accuracy_score,confusion_matrix,classification_report\n",
        "import numpy as np"
      ],
      "metadata": {
        "id": "nEKzJJP61PWZ"
      },
      "execution_count": 54,
      "outputs": []
    },
    {
      "cell_type": "code",
      "source": [
        "import cv2\n",
        "from sklearn import metrics"
      ],
      "metadata": {
        "id": "Yx39A1aj1Pb8"
      },
      "execution_count": 56,
      "outputs": []
    },
    {
      "cell_type": "code",
      "source": [
        "(x_train, y_train), (x_test, y_test) = keras.datasets.cifar10.load_data()"
      ],
      "metadata": {
        "id": "lO82XZoK1PyA"
      },
      "execution_count": 58,
      "outputs": []
    },
    {
      "cell_type": "code",
      "source": [
        "x_train.shape,x_test.shape"
      ],
      "metadata": {
        "id": "PIr7l5h-1P45",
        "colab": {
          "base_uri": "https://localhost:8080/"
        },
        "outputId": "4bf072f3-66ac-4820-db7e-5e5932913e06"
      },
      "execution_count": 60,
      "outputs": [
        {
          "output_type": "execute_result",
          "data": {
            "text/plain": [
              "((50000, 32, 32, 3), (10000, 32, 32, 3))"
            ]
          },
          "metadata": {},
          "execution_count": 60
        }
      ]
    },
    {
      "cell_type": "code",
      "source": [
        "# Normalization\n",
        "x_train = x_train/255.0\n",
        "x_test = x_test/255.0"
      ],
      "metadata": {
        "id": "mEZIvVGP1P7h"
      },
      "execution_count": 62,
      "outputs": []
    },
    {
      "cell_type": "code",
      "source": [
        "nsamples, nx, ny, nrgb = x_train.shape\n",
        "x_train2 = x_train.reshape((nsamples,nx*ny*nrgb))\n",
        "x_train2"
      ],
      "metadata": {
        "id": "botf9xcy1P_q",
        "colab": {
          "base_uri": "https://localhost:8080/"
        },
        "outputId": "40c76ea7-f61f-4715-a360-514468e9e1e4"
      },
      "execution_count": 64,
      "outputs": [
        {
          "output_type": "execute_result",
          "data": {
            "text/plain": [
              "array([[0.00090734, 0.00095348, 0.00096886, ..., 0.00189158, 0.00141484,\n",
              "        0.00110727],\n",
              "       [0.00236832, 0.00272203, 0.00287582, ..., 0.00219915, 0.00204537,\n",
              "        0.00221453],\n",
              "       [0.00392157, 0.00392157, 0.00392157, ..., 0.0012303 , 0.00132257,\n",
              "        0.00129181],\n",
              "       ...,\n",
              "       [0.00053825, 0.00273741, 0.00361399, ..., 0.00018454, 0.00047674,\n",
              "        0.00076894],\n",
              "       [0.00290657, 0.00324491, 0.00369089, ..., 0.00299885, 0.00292195,\n",
              "        0.00262976],\n",
              "       [0.00352172, 0.00352172, 0.00367551, ..., 0.00250673, 0.00250673,\n",
              "        0.00247597]])"
            ]
          },
          "metadata": {},
          "execution_count": 64
        }
      ]
    },
    {
      "cell_type": "code",
      "source": [
        "nsamples, nx, ny, nrgb = x_test.shape\n",
        "x_test2 = x_test.reshape((nsamples,nx*ny*nrgb))\n",
        "x_test2"
      ],
      "metadata": {
        "id": "XO4lv3N41QDR",
        "colab": {
          "base_uri": "https://localhost:8080/"
        },
        "outputId": "b5bd6419-88a4-4c42-a992-37aa1ba8605b"
      },
      "execution_count": 66,
      "outputs": [
        {
          "output_type": "execute_result",
          "data": {
            "text/plain": [
              "array([[0.00242983, 0.00172241, 0.00075356, ..., 0.00032295, 0.00103037,\n",
              "        0.00169166],\n",
              "       [0.00361399, 0.00361399, 0.00361399, ..., 0.00286044, 0.00307574,\n",
              "        0.00306036],\n",
              "       [0.00242983, 0.00292195, 0.00341407, ..., 0.00010765, 0.00012303,\n",
              "        0.00010765],\n",
              "       ...,\n",
              "       [0.00030757, 0.00023068, 0.00018454, ..., 0.00038447, 0.00030757,\n",
              "        0.0007228 ],\n",
              "       [0.00038447, 0.00061515, 0.00018454, ..., 0.00141484, 0.00184544,\n",
              "        0.0012303 ],\n",
              "       [0.00112265, 0.00119954, 0.0011534 , ..., 0.00041522, 0.00039985,\n",
              "        0.00039985]])"
            ]
          },
          "metadata": {},
          "execution_count": 66
        }
      ]
    },
    {
      "cell_type": "code",
      "source": [
        "y_train"
      ],
      "metadata": {
        "id": "8yDB_67H1QIB",
        "colab": {
          "base_uri": "https://localhost:8080/"
        },
        "outputId": "ebc966cd-b113-4a88-e704-52f345651e6e"
      },
      "execution_count": 68,
      "outputs": [
        {
          "output_type": "execute_result",
          "data": {
            "text/plain": [
              "array([[6],\n",
              "       [9],\n",
              "       [9],\n",
              "       ...,\n",
              "       [9],\n",
              "       [1],\n",
              "       [1]], dtype=uint8)"
            ]
          },
          "metadata": {},
          "execution_count": 68
        }
      ]
    },
    {
      "cell_type": "markdown",
      "source": [
        "**Random** **Forest**"
      ],
      "metadata": {
        "id": "FFSmLJt_1vvS"
      }
    },
    {
      "cell_type": "code",
      "source": [
        "from sklearn.ensemble import RandomForestClassifier"
      ],
      "metadata": {
        "id": "iHu_CZno1QKK"
      },
      "execution_count": 70,
      "outputs": []
    },
    {
      "cell_type": "code",
      "source": [
        "model=RandomForestClassifier()"
      ],
      "metadata": {
        "id": "2ovNLCNk1QMT"
      },
      "execution_count": 72,
      "outputs": []
    },
    {
      "cell_type": "code",
      "source": [
        "model.fit(x_train2,y_train.ravel())"
      ],
      "metadata": {
        "id": "Sd_v6Zkz3nan",
        "colab": {
          "base_uri": "https://localhost:8080/"
        },
        "outputId": "68b64438-e27f-4576-a32e-996ac157b3c4"
      },
      "execution_count": 32,
      "outputs": [
        {
          "output_type": "execute_result",
          "data": {
            "text/plain": [
              "RandomForestClassifier()"
            ]
          },
          "metadata": {},
          "execution_count": 32
        }
      ]
    },
    {
      "cell_type": "code",
      "source": [
        "y_pred=model.predict(x_test2)\n",
        "y_pred"
      ],
      "metadata": {
        "id": "eludRw5c14UC",
        "colab": {
          "base_uri": "https://localhost:8080/"
        },
        "outputId": "87277e5e-ed80-4400-ae80-110a5d25aed9"
      },
      "execution_count": 33,
      "outputs": [
        {
          "output_type": "execute_result",
          "data": {
            "text/plain": [
              "array([4, 8, 8, ..., 5, 5, 7], dtype=uint8)"
            ]
          },
          "metadata": {},
          "execution_count": 33
        }
      ]
    },
    {
      "cell_type": "code",
      "source": [
        "accuracy_score(y_pred,y_test)\n",
        "print(classification_report(y_pred,y_test))"
      ],
      "metadata": {
        "id": "qzCvnk1814WR",
        "colab": {
          "base_uri": "https://localhost:8080/"
        },
        "outputId": "a743e395-dfc5-4626-e7eb-33db59605b3e"
      },
      "execution_count": 34,
      "outputs": [
        {
          "output_type": "stream",
          "name": "stdout",
          "text": [
            "              precision    recall  f1-score   support\n",
            "\n",
            "           0       0.55      0.55      0.55      1003\n",
            "           1       0.56      0.54      0.55      1047\n",
            "           2       0.33      0.36      0.35       903\n",
            "           3       0.27      0.33      0.30       807\n",
            "           4       0.40      0.40      0.40      1000\n",
            "           5       0.41      0.43      0.42       956\n",
            "           6       0.54      0.46      0.50      1173\n",
            "           7       0.45      0.50      0.48       901\n",
            "           8       0.63      0.58      0.61      1079\n",
            "           9       0.55      0.48      0.51      1131\n",
            "\n",
            "    accuracy                           0.47     10000\n",
            "   macro avg       0.47      0.46      0.47     10000\n",
            "weighted avg       0.48      0.47      0.47     10000\n",
            "\n"
          ]
        }
      ]
    },
    {
      "cell_type": "code",
      "source": [
        "cm1 =confusion_matrix(y_pred,y_test)"
      ],
      "metadata": {
        "id": "bZE4gaEz14cT"
      },
      "execution_count": 35,
      "outputs": []
    },
    {
      "cell_type": "code",
      "source": [
        "cm_display = metrics.ConfusionMatrixDisplay(confusion_matrix=cm1, display_labels =[\"Airplane\",\"Automobile\",\"Bird\",\"Cat\",\"Deer\",\"Dog\",\"Frog\",\"Horse\",\"Ship\",\"Truck\"])\n",
        "cm_display.plot()\n",
        "plt.show()"
      ],
      "metadata": {
        "id": "uFuwRQLg1QOh",
        "colab": {
          "base_uri": "https://localhost:8080/",
          "height": 279
        },
        "outputId": "ee8170f9-784f-41f4-cda4-3e646e29f041"
      },
      "execution_count": 36,
      "outputs": [
        {
          "output_type": "display_data",
          "data": {
            "text/plain": [
              "<Figure size 432x288 with 2 Axes>"
            ],
            "image/png": "[encoded data removed]"
          },
          "metadata": {
            "needs_background": "light"
          }
        }
      ]
    },
    {
      "cell_type": "markdown",
      "source": [
        "**K Nearest Neighbours**"
      ],
      "metadata": {
        "id": "0SoW81J35pKz"
      }
    },
    {
      "cell_type": "code",
      "source": [
        "from sklearn.neighbors import KNeighborsClassifier"
      ],
      "metadata": {
        "id": "Fzm7FwBI5oMA"
      },
      "execution_count": 37,
      "outputs": []
    },
    {
      "cell_type": "code",
      "source": [
        "knn = KNeighborsClassifier(n_neighbors=7)"
      ],
      "metadata": {
        "id": "cdtmsBM45lxw"
      },
      "execution_count": 38,
      "outputs": []
    },
    {
      "cell_type": "code",
      "source": [
        "knn.fit(x_train2,y_train)"
      ],
      "metadata": {
        "id": "2w8s0LKB5ioC",
        "colab": {
          "base_uri": "https://localhost:8080/"
        },
        "outputId": "da14ef2c-635b-4de6-df8a-3de2c8a0bc00"
      },
      "execution_count": 39,
      "outputs": [
        {
          "output_type": "stream",
          "name": "stderr",
          "text": [
            "/usr/local/lib/python3.7/dist-packages/sklearn/neighbors/_classification.py:198: DataConversionWarning: A column-vector y was passed when a 1d array was expected. Please change the shape of y to (n_samples,), for example using ravel().\n",
            "  return self._fit(X, y)\n"
          ]
        },
        {
          "output_type": "execute_result",
          "data": {
            "text/plain": [
              "KNeighborsClassifier(n_neighbors=7)"
            ]
          },
          "metadata": {},
          "execution_count": 39
        }
      ]
    },
    {
      "cell_type": "code",
      "source": [
        "y_pred_knn = knn.predict(x_test2)\n",
        "y_pred_knn"
      ],
      "metadata": {
        "id": "tN8sIM6w1QSb",
        "colab": {
          "base_uri": "https://localhost:8080/"
        },
        "outputId": "dacc9c92-9607-4d09-b3db-5f8bc0960fc4"
      },
      "execution_count": 76,
      "outputs": [
        {
          "output_type": "execute_result",
          "data": {
            "text/plain": [
              "array([3, 3, 3, ..., 3, 3, 3], dtype=uint8)"
            ]
          },
          "metadata": {},
          "execution_count": 76
        }
      ]
    },
    {
      "cell_type": "code",
      "source": [
        "accuracy_score(y_pred_knn,y_test)\n",
        "print(classification_report(y_pred_knn,y_test))"
      ],
      "metadata": {
        "id": "-pEX8s5o1QUx",
        "colab": {
          "base_uri": "https://localhost:8080/"
        },
        "outputId": "2c1f3886-7987-4e65-aacc-b12f728ff3e1"
      },
      "execution_count": 77,
      "outputs": [
        {
          "output_type": "stream",
          "name": "stdout",
          "text": [
            "              precision    recall  f1-score   support\n",
            "\n",
            "           0       0.00      0.00      0.00         0\n",
            "           1       0.00      0.00      0.00         0\n",
            "           2       0.00      0.00      0.00         0\n",
            "           3       1.00      0.10      0.18     10000\n",
            "           4       0.00      0.00      0.00         0\n",
            "           5       0.00      0.00      0.00         0\n",
            "           6       0.00      0.00      0.00         0\n",
            "           7       0.00      0.00      0.00         0\n",
            "           8       0.00      0.00      0.00         0\n",
            "           9       0.00      0.00      0.00         0\n",
            "\n",
            "    accuracy                           0.10     10000\n",
            "   macro avg       0.10      0.01      0.02     10000\n",
            "weighted avg       1.00      0.10      0.18     10000\n",
            "\n"
          ]
        },
        {
          "output_type": "stream",
          "name": "stderr",
          "text": [
            "/usr/local/lib/python3.7/dist-packages/sklearn/metrics/_classification.py:1318: UndefinedMetricWarning: Recall and F-score are ill-defined and being set to 0.0 in labels with no true samples. Use `zero_division` parameter to control this behavior.\n",
            "  _warn_prf(average, modifier, msg_start, len(result))\n",
            "/usr/local/lib/python3.7/dist-packages/sklearn/metrics/_classification.py:1318: UndefinedMetricWarning: Recall and F-score are ill-defined and being set to 0.0 in labels with no true samples. Use `zero_division` parameter to control this behavior.\n",
            "  _warn_prf(average, modifier, msg_start, len(result))\n",
            "/usr/local/lib/python3.7/dist-packages/sklearn/metrics/_classification.py:1318: UndefinedMetricWarning: Recall and F-score are ill-defined and being set to 0.0 in labels with no true samples. Use `zero_division` parameter to control this behavior.\n",
            "  _warn_prf(average, modifier, msg_start, len(result))\n"
          ]
        }
      ]
    },
    {
      "cell_type": "code",
      "source": [
        "cm2 = confusion_matrix(y_pred_knn,y_test)"
      ],
      "metadata": {
        "id": "BAWXv2ET1QYb"
      },
      "execution_count": 78,
      "outputs": []
    },
    {
      "cell_type": "code",
      "source": [
        "cm_display = metrics.ConfusionMatrixDisplay(confusion_matrix = cm2, display_labels =[\"Airplane\",\"Automobile\",\"Bird\",\"Cat\",\"Deer\",\"Dog\",\"Frog\",\"Horse\",\"Ship\",\"Truck\"])\n",
        "cm_display.plot()\n",
        "plt.show()"
      ],
      "metadata": {
        "colab": {
          "base_uri": "https://localhost:8080/",
          "height": 283
        },
        "id": "ofrov-tQ7p6G",
        "outputId": "7dd879ad-33d0-4b35-d2b2-7f0cb6eac9b2"
      },
      "execution_count": 79,
      "outputs": [
        {
          "output_type": "display_data",
          "data": {
            "text/plain": [
              "<Figure size 432x288 with 2 Axes>"
            ],
            "image/png": "[encoded data removed]"
          },
          "metadata": {
            "needs_background": "light"
          }
        }
      ]
    },
    {
      "cell_type": "code",
      "source": [
        "img_path='/content/bird.jfif'"
      ],
      "metadata": {
        "id": "U0qx-yd37wDA"
      },
      "execution_count": 80,
      "outputs": []
    },
    {
      "cell_type": "code",
      "source": [
        "img_arr=cv2.imread(img_path)"
      ],
      "metadata": {
        "id": "Efu4SqaG7yiY"
      },
      "execution_count": 81,
      "outputs": []
    },
    {
      "cell_type": "code",
      "source": [
        "img_arr=cv2.resize(img_arr,(32,32))"
      ],
      "metadata": {
        "id": "7ibOw2Pn80Of"
      },
      "execution_count": null,
      "outputs": []
    }
  ]
}